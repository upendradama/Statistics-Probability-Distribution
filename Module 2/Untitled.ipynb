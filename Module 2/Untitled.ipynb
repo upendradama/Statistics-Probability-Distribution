{
 "cells": [
  {
   "cell_type": "code",
   "execution_count": 8,
   "metadata": {},
   "outputs": [
    {
     "name": "stdout",
     "output_type": "stream",
     "text": [
      "Object `code` not found.\n",
      "3\n"
     ]
    }
   ],
   "source": [
    "What will be the output of the following Python code?\n",
    "D = {1 : 1, 2 : '2', '1' : 1, '2' : 3} \n",
    "D['1'] = 2\n",
    "print(D[D[D[str(D[1])]]])"
   ]
  }
 ],
 "metadata": {
  "kernelspec": {
   "display_name": "Python 3",
   "language": "python",
   "name": "python3"
  },
  "language_info": {
   "codemirror_mode": {
    "name": "ipython",
    "version": 3
   },
   "file_extension": ".py",
   "mimetype": "text/x-python",
   "name": "python",
   "nbconvert_exporter": "python",
   "pygments_lexer": "ipython3",
   "version": "3.7.4"
  }
 },
 "nbformat": 4,
 "nbformat_minor": 2
}
